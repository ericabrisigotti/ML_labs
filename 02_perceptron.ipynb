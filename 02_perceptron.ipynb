{
 "cells": [
  {
   "cell_type": "markdown",
   "metadata": {},
   "source": [
    "# **Perceptrons**\n",
    "Laboratory 2 of the Machine Learning class by Prof. F. Chiariotti at University of Padova during academic year 2024-2025."
   ]
  },
  {
   "cell_type": "code",
   "execution_count": 1,
   "metadata": {},
   "outputs": [],
   "source": [
    "# importing all the necessary python libraries\n",
    "import numpy as np\n",
    "import pandas as pd\n",
    "import random as rnd\n",
    "from matplotlib import pyplot as plt\n",
    "from sklearn import linear_model, preprocessing\n",
    "from sklearn.model_selection import train_test_split"
   ]
  },
  {
   "cell_type": "markdown",
   "metadata": {},
   "source": [
    "# **Classification of Stayed/Churned Customers**"
   ]
  },
  {
   "cell_type": "markdown",
   "metadata": {},
   "source": [
    "The Customer Churn table contains information on all 3,758 customers from a Telecommunications company in California in Q2 2022. We want to use this task to predict if a customer will churn (i.e. turn to another company to get a better deal) or not based on three features. It contains three features:\n",
    "- **Tenure** (in Months) Number of months the customer has stayed with the company\n",
    "- **Monthly Charge**: The amount charged to the customer monthly\n",
    "- **Age**: Customer's age\n",
    "- **Customer Status**:  is 0 if the customer has stayed with the company and 1 if the customer has churned."
   ]
  },
  {
   "cell_type": "code",
   "execution_count": 2,
   "metadata": {},
   "outputs": [],
   "source": [
    "np.random.seed(1) # setting the seed\n",
    "\n",
    "def load_dataset(filename):\n",
    "    # function that loads the csv file and splits the dataset between input and labels, while also\n",
    "    # shuffling the data and shifting the label range from [0,1] to [-1,1] (-1 = stayed, +1 = churned)\n",
    "    data_train = pd.read_csv(filename)\n",
    "    data_train = data_train.sample(frac=1).reset_index(drop=True) # shuffling\n",
    "    X = data_train.iloc[:, 0:3].values \n",
    "    Y = data_train.iloc[:, 3].values \n",
    "    Y = 2*Y-1 #\n",
    "    return X,Y\n",
    "\n",
    "# loading the dataset\n",
    "X, Y = load_dataset('data/telecom_customer_churn_cleaned.csv')"
   ]
  },
  {
   "cell_type": "code",
   "execution_count": 3,
   "metadata": {},
   "outputs": [
    {
     "name": "stdout",
     "output_type": "stream",
     "text": [
      "# of samples in the train set: 2817\n",
      "# of samples in the test set: 940\n",
      "# of churned users in test: 479\n",
      "# of loyal users in test: 461\n",
      "Mean of the training input data: [-0.  0. -0.]\n",
      "Std of the training input data: [1. 1. 1.]\n",
      "Mean of the test input data: [0.0575483  0.05550169 0.0073833 ]\n",
      "Std of the test input data: [0.98593187 0.97629659 1.00427583]\n"
     ]
    }
   ],
   "source": [
    "# splitting the data into training and test sets\n",
    "m_training = int(0.75*X.shape[0]) # computing the split\n",
    "m_test =  X.shape[0] - m_training\n",
    "X_training =  X[:m_training] # splitting\n",
    "Y_training =  Y[:m_training]\n",
    "X_test =   X[m_training:]\n",
    "Y_test =  Y[m_training:]\n",
    "print(\"# of samples in the train set:\", X_training.shape[0])\n",
    "print(\"# of samples in the test set:\", X_test.shape[0])\n",
    "print(\"# of churned users in test:\", np.sum(Y_test==-1))\n",
    "print(\"# of loyal users in test:\", np.sum(Y_test==1))\n",
    "\n",
    "# standardizing the tests by computing a transformation on the training input set\n",
    "scaler = preprocessing.StandardScaler().fit(X_training)  \n",
    "np.set_printoptions(suppress=True) # setting to zero floating point numbers < min_float_eps\n",
    "# and appling the transformation to both training and test sets\n",
    "X_training =  scaler.transform(X_training)\n",
    "print (\"Mean of the training input data:\", X_training.mean(axis=0))\n",
    "print (\"Std of the training input data:\",X_training.std(axis=0))\n",
    "X_test =  scaler.transform(X_test)\n",
    "print (\"Mean of the test input data:\", X_test.mean(axis=0))\n",
    "print (\"Std of the test input data:\", X_test.std(axis=0))"
   ]
  },
  {
   "cell_type": "code",
   "execution_count": 4,
   "metadata": {},
   "outputs": [
    {
     "name": "stdout",
     "output_type": "stream",
     "text": [
      "some examples of training set in homogeneous coordinates are: \n",
      "[[ 1.         -0.3798618  -1.57020044  0.85174963]\n",
      " [ 1.         -0.87925308  0.47180292  1.08667766]\n",
      " [ 1.         -0.75440526 -0.6130632  -0.26415851]\n",
      " [ 1.         -1.12894873  0.09856916 -0.96894261]\n",
      " [ 1.         -1.12894873 -0.58486332 -1.20387064]\n",
      " [ 1.          1.78416712  1.39908145  0.08823353]\n",
      " [ 1.         -0.7960212  -1.0990965  -0.32289052]\n",
      " [ 1.          0.20276137 -0.39907585 -0.96894261]\n",
      " [ 1.         -0.62955744  0.63934341  0.96921364]\n",
      " [ 1.         -0.87925308  1.13201197 -0.02923048]]\n"
     ]
    }
   ],
   "source": [
    "def to_homogeneous(X_training, X_test):\n",
    "    # function that transforms from inhomogheneous coordinates to homogeneous ones\n",
    "    Xh_training = np.hstack([np.ones( (X_training.shape[0], 1) ), X_training])\n",
    "    Xh_test = np.hstack([np.ones( (X_test.shape[0], 1) ), X_test])\n",
    "    return Xh_training, Xh_test\n",
    "\n",
    "X_training, X_test = to_homogeneous(X_training, X_test)\n",
    "print(\"some examples of training set in homogeneous coordinates are: \")\n",
    "print(X_training[:10])"
   ]
  },
  {
   "cell_type": "markdown",
   "metadata": {},
   "source": [
    "## 1. **Implementing the deterministic perceptron**\n",
    "The following version of the perceptron is **deterministic** since we used a fixed rule to decide which sample should be considered (e.g. the one with the lowest index)."
   ]
  },
  {
   "cell_type": "code",
   "execution_count": 5,
   "metadata": {},
   "outputs": [],
   "source": [
    "def count_errors(current_w, X, Y):\n",
    "    # function that finds all indices which have a different sign from the corresponding labels\n",
    "    index = np.nonzero(np.sign(np.dot(X, current_w)) - Y)[0]\n",
    "    n = np.array(index).shape[0]\n",
    "    if (n == 0): # when there are no misclassified samples\n",
    "        return 0, -1\n",
    "    return n, index\n",
    "\n",
    "def perceptron_fixed_update(current_w, X, Y):\n",
    "    # function that updates the first misclassified sample based on the first misclassified sample\n",
    "    new_w=current_w\n",
    "    n, idx = count_errors(current_w, X, Y)\n",
    "    if (n > 0):\n",
    "        new_w = current_w + Y[idx[0]] * X[idx[0],:]    \n",
    "    return new_w\n",
    "\n",
    "def perceptron_no_randomization(X, Y, max_num_iterations):\n",
    "    # function that implements the determistic perceptron on a dataset (X,Y) and\n",
    "    # imposes a maximum number of iterations as a termination condition \n",
    "    num_samples = X.shape[0] # initializing some temporary variables\n",
    "    num_iter = 0\n",
    "    curr_w = np.zeros(X.shape[1]) # initializing the perceptron weights\n",
    "    # computing the initial number of misclassified samples and their indexes\n",
    "    num_misclassified, index_misclassified = count_errors(curr_w, X, Y)\n",
    "    best_error = num_misclassified/num_samples # computing the initial error\n",
    "    best_w = curr_w.copy() # initializing the model\n",
    "    # iterating until all samples are correctly classified or until the termination condition is met\n",
    "    while num_misclassified != 0 and num_iter < max_num_iterations:\n",
    "        curr_w = perceptron_fixed_update(curr_w, X, Y)\n",
    "        num_misclassified, index_misclassified = count_errors(curr_w, X, Y)\n",
    "        if num_misclassified / num_samples < best_error:\n",
    "            # computing the error as the fraction of misclassified samples if a better model is found\n",
    "            best_error = num_misclassified / num_samples\n",
    "            best_w = curr_w.copy()\n",
    "        num_iter += 1\n",
    "    # returning the best model and the corresponding error\n",
    "    return best_w, best_error"
   ]
  },
  {
   "cell_type": "code",
   "execution_count": 6,
   "metadata": {},
   "outputs": [],
   "source": [
    "def loss_estimate(w, X, Y):\n",
    "    # function that estimates the loss as the fraction of miclassified samples\n",
    "    err,_ = count_errors(w, X, Y)\n",
    "    return err / len(Y)"
   ]
  },
  {
   "cell_type": "code",
   "execution_count": 7,
   "metadata": {},
   "outputs": [
    {
     "name": "stdout",
     "output_type": "stream",
     "text": [
      "deterministic perceptron: \n",
      "training error after   30 iterations is:  0.2751153709620163\n",
      "training error after 100 iterations is:  0.2751153709620163\n",
      "test error after   30 iterations:  0.26382978723404255\n",
      "test error after 100 iterations:  0.26382978723404255\n"
     ]
    }
   ],
   "source": [
    "# running the deterministic perceptron for only 30 iterations and later for 100 iterations\n",
    "w_found, error = perceptron_no_randomization(X_training,Y_training, 30)\n",
    "w_found2, error2 = perceptron_no_randomization(X_training,Y_training, 100)\n",
    "print('deterministic perceptron: ')\n",
    "print(\"training error after   30 iterations is: \", error)\n",
    "print(\"training error after 100 iterations is: \", error2)\n",
    "\n",
    "# evaluating the performance of the determinstic perceptron on the test set\n",
    "true_loss_estimate =  loss_estimate(w_found, X_test, Y_test)\n",
    "true_loss_estimate2 =  loss_estimate(w_found2, X_test, Y_test) \n",
    "print(\"test error after   30 iterations: \", true_loss_estimate)\n",
    "print(\"test error after 100 iterations: \", true_loss_estimate2)"
   ]
  },
  {
   "cell_type": "markdown",
   "metadata": {},
   "source": [
    "## 2. **Implementing the random perceptron**\n",
    "In following implementation of the perceptron, the choice of which sample should be considered is random."
   ]
  },
  {
   "cell_type": "code",
   "execution_count": 8,
   "metadata": {},
   "outputs": [],
   "source": [
    "def perceptron_randomized_update(current_w, X, Y):\n",
    "    # function that updates the perceptron weights\n",
    "    new_w=current_w\n",
    "    n, idx = count_errors(current_w, X, Y)\n",
    "    # Choose a random misclassified sample\n",
    "    if (n > 0):\n",
    "        chosen = rnd.sample(sorted(idx), 1)[0]\n",
    "        new_w = current_w + Y[chosen] * X[chosen,:]\n",
    "    return new_w\n",
    "\n",
    "def perceptron_with_randomization(X, Y, max_num_iterations):\n",
    "    # function that implements the random perceptron on a dataset (X,Y) and\n",
    "    # imposes a maximum number of iterations as a termination condition \n",
    "    num_samples = X.shape[0] # initializing support variables\n",
    "    num_iter = 0\n",
    "    curr_w = np.zeros(X.shape[1]) # initializing the perceptron weights \n",
    "    # compute the number of misclassified samples and their indexes\n",
    "    num_misclassified, index_misclassified = count_errors(curr_w, X, Y)\n",
    "    best_error = num_misclassified / num_samples # computing the initial error\n",
    "    best_w = curr_w.copy() # initalizing the model\n",
    "    # iterating until all samples are correctly classified or until the termination condition is met\n",
    "    while num_misclassified != 0 and num_iter < max_num_iterations:\n",
    "        curr_w = perceptron_randomized_update(curr_w, X, Y)\n",
    "        num_misclassified, index_misclassified = count_errors(curr_w, X, Y)\n",
    "        if num_misclassified / num_samples < best_error:\n",
    "            # computing the error as the fraction of misclassified samples if a better model is found\n",
    "            best_error = num_misclassified / num_samples\n",
    "            best_w = curr_w.copy()\n",
    "        num_iter += 1\n",
    "    # returning the best model and the corresponding error\n",
    "    return best_w, best_error"
   ]
  },
  {
   "cell_type": "markdown",
   "metadata": {},
   "source": [
    "Now test the correct version of the perceptron using 30 iterations and print the error of the best model we have found."
   ]
  },
  {
   "cell_type": "code",
   "execution_count": 9,
   "metadata": {},
   "outputs": [
    {
     "name": "stdout",
     "output_type": "stream",
     "text": [
      "random perceptron\n",
      "training error after   30 iterations:  0.273340433084842\n",
      "training error after 100 iterations:  0.2499112531061413\n",
      "test error after   30 iterations:  0.2702127659574468\n",
      "test error after 100 iterations:  0.26276595744680853\n"
     ]
    }
   ],
   "source": [
    "# running the random perceptron for only 30 iterations and later for 100 iterations\n",
    "w_found, error = perceptron_with_randomization(X_training, Y_training, 30)\n",
    "w_found2, error2 = perceptron_with_randomization(X_training, Y_training, 100)\n",
    "print('random perceptron')\n",
    "print(\"training error after   30 iterations: \", error)\n",
    "print(\"training error after 100 iterations: \", error2)\n",
    "\n",
    "# evaluating the performance of the determinstic perceptron on the test set\n",
    "true_loss_estimate =  loss_estimate(w_found, X_test, Y_test)\n",
    "true_loss_estimate2 =  loss_estimate(w_found2, X_test, Y_test) \n",
    "print(\"test error after   30 iterations: \", true_loss_estimate)\n",
    "print(\"test error after 100 iterations: \", true_loss_estimate2)"
   ]
  },
  {
   "cell_type": "code",
   "execution_count": 10,
   "metadata": {},
   "outputs": [
    {
     "data": {
      "image/png": "[encoded data removed]",
      "text/plain": [
       "<Figure size 800x400 with 1 Axes>"
      ]
     },
     "metadata": {},
     "output_type": "display_data"
    }
   ],
   "source": [
    "# plotting and comparing the training losses with respect to the number of iterations\n",
    "\n",
    "num_iters = np.arange(0, 1001,20) # initializing\n",
    "errors_rand = []\n",
    "errors_det = []\n",
    "\n",
    "for num_iter in num_iters: \n",
    "    _, error_rand = perceptron_with_randomization(X_training, Y_training, num_iter)\n",
    "    _, error_det = perceptron_no_randomization(X_training, Y_training, num_iter)\n",
    "    errors_rand.append(error_rand)\n",
    "    errors_det.append(error_det)\n",
    "\n",
    "plt.figure(figsize=(8,4))\n",
    "plt.plot(num_iters, errors_rand, label='random perceptron')\n",
    "plt.plot(num_iters, errors_det, label='deterministic perceptron')\n",
    "plt.xlabel('Number of iterations')\n",
    "plt.ylabel('Training error')\n",
    "plt.yscale('log')\n",
    "plt.grid()\n",
    "plt.legend()\n",
    "plt.show()"
   ]
  }
 ],
 "metadata": {
  "anaconda-cloud": {},
  "kernelspec": {
   "display_name": "Python 3",
   "language": "python",
   "name": "python3"
  },
  "language_info": {
   "codemirror_mode": {
    "name": "ipython",
    "version": 3
   },
   "file_extension": ".py",
   "mimetype": "text/x-python",
   "name": "python",
   "nbconvert_exporter": "python",
   "pygments_lexer": "ipython3",
   "version": "3.11.9"
  }
 },
 "nbformat": 4,
 "nbformat_minor": 4
}
