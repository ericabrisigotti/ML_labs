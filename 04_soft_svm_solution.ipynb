{
 "cells": [
  {
   "cell_type": "markdown",
   "metadata": {},
   "source": [
    "# **Soft SVMs**\n",
    "\n",
    "Laboratory 4 of the Machine Learning class held by Prof. F. Chiariotti during academic year 2024-2025."
   ]
  },
  {
   "cell_type": "code",
   "execution_count": 1,
   "metadata": {},
   "outputs": [],
   "source": [
    "# importing all the necessary python libraries\n",
    "import numpy as np\n",
    "import pandas as pd\n",
    "import random as rnd\n",
    "from matplotlib import pyplot as plt\n",
    "from sklearn import linear_model, preprocessing\n",
    "from sklearn.model_selection import train_test_split"
   ]
  },
  {
   "cell_type": "markdown",
   "metadata": {},
   "source": [
    "# **Classification of Stayed/Churned Customers**"
   ]
  },
  {
   "cell_type": "markdown",
   "metadata": {},
   "source": [
    "The Customer Churn table contains information on all 3,758 customers from a Telecommunications company in California in Q2 2022. We want to use this task to predict if a customer will churn (i.e. turn to another company to get a better deal) or not based on three features. It contains three features:\n",
    "- **Tenure** (in Months) Number of months the customer has stayed with the company\n",
    "- **Monthly Charge**: The amount charged to the customer monthly\n",
    "- **Age**: Customer's age\n",
    "- **Customer Status**:  is 0 if the customer has stayed with the company and 1 if the customer has churned."
   ]
  },
  {
   "cell_type": "code",
   "execution_count": 2,
   "metadata": {},
   "outputs": [],
   "source": [
    "np.random.seed(1) # setting the seed\n",
    "\n",
    "def load_dataset(filename):\n",
    "    # function that loads the csv file and splits the dataset between input and labels, while also\n",
    "    # shuffling the data and shifting the label range from [0,1] to [-1,1] (-1 = stayed, +1 = churned)\n",
    "    data_train = pd.read_csv(filename)\n",
    "    data_train = data_train.sample(frac=1).reset_index(drop=True) # shuffling\n",
    "    X = data_train.iloc[:, 0:3].values \n",
    "    Y = data_train.iloc[:, 3].values \n",
    "    Y = 2*Y-1 #\n",
    "    return X,Y\n",
    "\n",
    "# Load the dataset\n",
    "X, Y = load_dataset('data/telecom_customer_churn_cleaned.csv')"
   ]
  },
  {
   "cell_type": "code",
   "execution_count": 3,
   "metadata": {},
   "outputs": [
    {
     "name": "stdout",
     "output_type": "stream",
     "text": [
      "# of samples in the train set: 2817\n",
      "# of samples in the test set: 940\n",
      "# of churned users in test: 479\n",
      "# of loyal users in test: 461\n",
      "Mean of the training input data: [-0.  0. -0.]\n",
      "Std of the training input data: [1. 1. 1.]\n",
      "Mean of the test input data: [0.0575483  0.05550169 0.0073833 ]\n",
      "Std of the test input data: [0.98593187 0.97629659 1.00427583]\n"
     ]
    }
   ],
   "source": [
    "# splitting the data into training and test sets\n",
    "m_training = int(0.75*X.shape[0]) # computing the split\n",
    "m_test =  X.shape[0] - m_training\n",
    "X_training =  X[:m_training] # splitting\n",
    "Y_training =  Y[:m_training]\n",
    "X_test =   X[m_training:]\n",
    "Y_test =  Y[m_training:]\n",
    "print(\"# of samples in the train set:\", X_training.shape[0])\n",
    "print(\"# of samples in the test set:\", X_test.shape[0])\n",
    "print(\"# of churned users in test:\", np.sum(Y_test==-1))\n",
    "print(\"# of loyal users in test:\", np.sum(Y_test==1))\n",
    "\n",
    "# standardizing the tests by computing a transformation on the training input set\n",
    "scaler = preprocessing.StandardScaler().fit(X_training)  \n",
    "np.set_printoptions(suppress=True) # setting to zero floating point numbers < min_float_eps\n",
    "# and appling the transformation to both training and test sets\n",
    "X_training =  scaler.transform(X_training)\n",
    "print (\"Mean of the training input data:\", X_training.mean(axis=0))\n",
    "print (\"Std of the training input data:\",X_training.std(axis=0))\n",
    "X_test =  scaler.transform(X_test)\n",
    "print (\"Mean of the test input data:\", X_test.mean(axis=0))\n",
    "print (\"Std of the test input data:\", X_test.std(axis=0))"
   ]
  },
  {
   "cell_type": "markdown",
   "metadata": {},
   "source": [
    "We will use **homogeneous coordinates** to describe all the coefficients of the model.\n",
    "\n",
    "_Hint:_ The conversion can be performed with the function $hstack$ in $numpy$."
   ]
  },
  {
   "cell_type": "code",
   "execution_count": 4,
   "metadata": {},
   "outputs": [
    {
     "name": "stdout",
     "output_type": "stream",
     "text": [
      "some examples of training set in homogeneous coordinates are: \n",
      "[[ 1.         -0.3798618  -1.57020044  0.85174963]\n",
      " [ 1.         -0.87925308  0.47180292  1.08667766]\n",
      " [ 1.         -0.75440526 -0.6130632  -0.26415851]\n",
      " [ 1.         -1.12894873  0.09856916 -0.96894261]\n",
      " [ 1.         -1.12894873 -0.58486332 -1.20387064]\n",
      " [ 1.          1.78416712  1.39908145  0.08823353]\n",
      " [ 1.         -0.7960212  -1.0990965  -0.32289052]\n",
      " [ 1.          0.20276137 -0.39907585 -0.96894261]\n",
      " [ 1.         -0.62955744  0.63934341  0.96921364]\n",
      " [ 1.         -0.87925308  1.13201197 -0.02923048]]\n"
     ]
    }
   ],
   "source": [
    "def to_homogeneous(X_training, X_test):\n",
    "    # function that transforms from inhomogheneous coordinates to homogeneous ones\n",
    "    Xh_training = np.hstack([np.ones( (X_training.shape[0], 1) ), X_training])\n",
    "    Xh_test = np.hstack([np.ones( (X_test.shape[0], 1) ), X_test])\n",
    "    return Xh_training, Xh_test\n",
    "\n",
    "X_training, X_test = to_homogeneous(X_training, X_test)\n",
    "print(\"some examples of training set in homogeneous coordinates are: \")\n",
    "print(X_training[:10])"
   ]
  },
  {
   "cell_type": "markdown",
   "metadata": {},
   "source": [
    "Now **complete** the function *sgd_soft_svm* and all auxiliary functions. <br>\n",
    "You should select *a single sample*, compute the gradient, and run the soft SVM version (.\n",
    "\n",
    "The input parameters to pass are:\n",
    "- $X$: the matrix of input features, one row for each sample\n",
    "- $Y$: the vector of labels for the input features matrix X\n",
    "- $max\\_num\\_iterations$: the maximum number of iterations for running the soft SVM\n",
    "- $averaging\\_iterations$: the number of iterations to consider when averaging\n",
    "\n",
    "The output values are:\n",
    "- $best\\_w$: the vector with the coefficients of the best model\n",
    "- $margin$: the *margin* of the best model\n",
    "- $outliers$: the number of outliers that are classified correctly by the best model\n",
    "- $misclassified$: the number of outliers that are misclassified by the best model"
   ]
  },
  {
   "cell_type": "code",
   "execution_count": 5,
   "metadata": {},
   "outputs": [],
   "source": [
    "def count_outliers(current_w, X, Y):\n",
    "    # function that finds the number of outliers and the number of misclassified samples\n",
    "    Y_pred = np.dot(X, current_w)\n",
    "    margin = Y_pred * Y\n",
    "    outliers = np.where(margin < 1)[0]\n",
    "    misclassified = np.where(margin < 0)[0]\n",
    "    no = len(outliers)\n",
    "    nm = len(misclassified)\n",
    "    return no, nm\n",
    "\n",
    "def find_margin(current_w):  \n",
    "    # function that computes the margin of the model based on the input weights\n",
    "    norm = np.sqrt(np.sum(np.asarray(current_w) ** 2))\n",
    "    return 1 / np.max([1e-9, norm])\n",
    "\n",
    "def sgd_soft_svm(X, Y, lambda_par, max_num_iterations, averaging_iterations):\n",
    "    # function that trains the soft SVM on the training set (X, Y) for an input number \n",
    "    # of maximum iterations and an input softness parameter lambda\n",
    "    # the SGD part of the algorithm cancels out fluctuations by averaging the weights\n",
    "    # over the last few iterations (given by averaging_iterations)\n",
    "\n",
    "    theta = np.zeros(X.shape[1]) # initializing the weights\n",
    "    best_w = np.zeros(X.shape[1])\n",
    "    num_samples = X.shape[0]\n",
    "\n",
    "    # changing the weights with SGD\n",
    "    for num_iter in range(max_num_iterations):\n",
    "        # Compute the current weights\n",
    "        curr_w = theta / lambda_par / (num_iter + 1)\n",
    "        # Compute the gradient over a random point\n",
    "        idx = rnd.sample(range(num_samples), 1)[0]\n",
    "        if (np.dot(X[idx, :], curr_w) * Y[idx] < 1):\n",
    "            theta += Y[idx] * X[idx, :]\n",
    "        if (num_iter >= max_num_iterations - averaging_iterations):\n",
    "            # in the last few iterations, we average to cancel out fluctuation\n",
    "            best_w += curr_w / averaging_iterations\n",
    "\n",
    "    margin = find_margin(best_w) # finding the quantities for the next step\n",
    "    outliers, misclassified = count_outliers(best_w, X, Y)\n",
    "    return best_w, margin, outliers, misclassified"
   ]
  },
  {
   "cell_type": "markdown",
   "metadata": {},
   "source": [
    "Now we use the implementation to learn a model from the training data using 100000 iterations and averaging over the last 10000. Let us consider $\\lambda=1$. Then we use the best model $best\\_w$ to **predict the labels for the test dataset** and print the fraction of outliers in the test set (the test error that is an estimate of the true loss)."
   ]
  },
  {
   "cell_type": "code",
   "execution_count": 6,
   "metadata": {},
   "outputs": [
    {
     "name": "stdout",
     "output_type": "stream",
     "text": [
      "Soft SVM: \n",
      "best parameters:  [ 0.02940684 -0.90009047  0.39762473  0.13493369]\n",
      "margin:  1.0063906671030347\n",
      "fraction of training outliers:  0.6897408590699325\n",
      "fraction of misclassified training samples:  736\n",
      "fraction of test outliers: 0.7074468085106383\n",
      "fraction of misclassified test samples: 0.25638297872340426\n"
     ]
    }
   ],
   "source": [
    "# running the Soft SVM with:\n",
    "# - lambda=0.1\n",
    "# - 100000 SGD iterations\n",
    "# - 10000 SGD averaging iterations\n",
    "best_w, margin, outliers, misclassified = sgd_soft_svm(X_training, Y_training, 0.1, int(1e5), int(1e4))\n",
    "print(\"Soft SVM: \")\n",
    "print('best parameters: ', best_w)\n",
    "print(\"margin: \", margin)\n",
    "print(\"fraction of training outliers: \", outliers/len(Y_training))\n",
    "print(\"fraction of misclassified training samples: \", misclassified)\n",
    "true_error = np.asarray(count_outliers(best_w, X_test, Y_test)) / len(Y_test)\n",
    "print(\"fraction of test outliers: \" + str(true_error[0]))\n",
    "print(\"fraction of misclassified test samples: \" + str(true_error[1]))"
   ]
  },
  {
   "cell_type": "markdown",
   "metadata": {},
   "source": [
    "Now let us compare the result with your perceptron function from Lab 2."
   ]
  },
  {
   "cell_type": "code",
   "execution_count": 7,
   "metadata": {},
   "outputs": [],
   "source": [
    "def count_errors(current_w, X, Y):\n",
    "    # function that finds all indices which have a different sign from the corresponding labels\n",
    "    index = np.nonzero(np.sign(np.dot(X, current_w)) - Y)[0]\n",
    "    n = np.array(index).shape[0]\n",
    "    if (n == 0): # when there are no misclassified samples\n",
    "        return 0, -1\n",
    "    return n, index"
   ]
  },
  {
   "cell_type": "code",
   "execution_count": 8,
   "metadata": {},
   "outputs": [],
   "source": [
    "def perceptron_randomized_update(current_w, X, Y):\n",
    "    # function that updates the perceptron weights\n",
    "    new_w=current_w\n",
    "    n, idx = count_errors(current_w, X, Y)\n",
    "    # Choose a random misclassified sample\n",
    "    if (n > 0):\n",
    "        chosen = rnd.sample(sorted(idx), 1)[0]\n",
    "        new_w = current_w + Y[chosen] * X[chosen,:]\n",
    "    return new_w\n",
    "\n",
    "def perceptron_with_randomization(X, Y, max_num_iterations):\n",
    "    # function that implements the random perceptron on a dataset (X,Y) and\n",
    "    # imposes a maximum number of iterations as a termination condition \n",
    "    num_samples = X.shape[0] # initializing support variables\n",
    "    num_iter = 0\n",
    "    curr_w = np.zeros(X.shape[1]) # initializing the perceptron weights \n",
    "    # compute the number of misclassified samples and their indexes\n",
    "    num_misclassified, index_misclassified = count_errors(curr_w, X, Y)\n",
    "    best_error = num_misclassified / num_samples # computing the initial error\n",
    "    best_w = curr_w.copy() # initalizing the model\n",
    "    # iterating until all samples are correctly classified or until the termination condition is met\n",
    "    while num_misclassified != 0 and num_iter < max_num_iterations:\n",
    "        curr_w = perceptron_randomized_update(curr_w, X, Y)\n",
    "        num_misclassified, index_misclassified = count_errors(curr_w, X, Y)\n",
    "        if num_misclassified / num_samples < best_error:\n",
    "            # computing the error as the fraction of misclassified samples if a better model is found\n",
    "            best_error = num_misclassified / num_samples\n",
    "            best_w = curr_w.copy()\n",
    "        num_iter += 1\n",
    "    # returning the best model and the corresponding error\n",
    "    return best_w, best_error"
   ]
  },
  {
   "cell_type": "code",
   "execution_count": 9,
   "metadata": {},
   "outputs": [
    {
     "name": "stdout",
     "output_type": "stream",
     "text": [
      "Perceptron: \n",
      "training error:  0.24494142705005326\n",
      "best parameters:  [ 0.         -2.37210862  1.38511195  0.82224811]\n",
      "fraction of misclassified samples:  0.2553191489361702\n"
     ]
    }
   ],
   "source": [
    "# comparing the performances of Soft SVM with Perceptron for 1000 iterations\n",
    "w_found, error = perceptron_with_randomization(X_training, Y_training, 1000)\n",
    "print('Perceptron: ')\n",
    "print(\"training error: \", error)\n",
    "print(\"best parameters: \", w_found)\n",
    "true_loss_estimate =  count_errors(w_found, X_test, Y_test)[0] / len(Y_test)      \n",
    "print(\"fraction of misclassified samples: \", true_loss_estimate)"
   ]
  },
  {
   "cell_type": "markdown",
   "metadata": {},
   "source": [
    "## **Soft SVM K-fold cross validation**\n",
    "To see the effect of $\\lambda$, we run k-fold cross validation for different values of $$\\lambda: $10, 1, 0.1, 0.01, 0.001$ and run a K-fold cross validation (you can use the code from Lab 3), using the loss (i.e. the number of misclassified points) as a score."
   ]
  },
  {
   "cell_type": "code",
   "execution_count": 10,
   "metadata": {},
   "outputs": [],
   "source": [
    "def K_fold(X_training: np.ndarray, Y_training: np.ndarray, lambda_par: np.ndarray, K: np.ndarray) -> None:\n",
    "    # function that performs k-fold cross validation on the training data \n",
    "    # (X_training, Y_training) for an input K and for given values of the \n",
    "    # regularization parameter lambda\n",
    "\n",
    "    best = -1 # initializing\n",
    "    best_perf = 1e20\n",
    "    results = []\n",
    "    models = []\n",
    "    max_idx = np.shape(Y_training)[0]\n",
    "\n",
    "    perm = np.arange(0, np.shape(X_training)[0], 1) # permutating\n",
    "    rnd.shuffle(perm)\n",
    "    X_shuffled = np.asarray(X_training[perm, :])\n",
    "    Y_shuffled = np.asarray(Y_training[perm])\n",
    "\n",
    "    fold_points = int(np.floor(max_idx / K)) # splitting the training set in K folds\n",
    "    for lambda_idx in range(len(lambda_par)): # for every value of lambda\n",
    "        lambda_perf = 0\n",
    "        # training and validating are performed for each lambda value\n",
    "        for test in range(K):\n",
    "            # training on all folds but one\n",
    "            x_train_fold = np.concatenate([X_shuffled[: fold_points * test, :], X_shuffled[fold_points * (test + 1) + 1 :, :]])\n",
    "            y_train_fold = np.concatenate([Y_shuffled[: fold_points * test], Y_shuffled[fold_points * (test + 1) + 1 :]])\n",
    "            k_model, k_margin, k_out, k_misc = sgd_soft_svm(x_train_fold, y_train_fold, lambda_par[lambda_idx], int(1e5), int(1e4))\n",
    "            # testing on the remaining fold\n",
    "            x_validate_fold = X_shuffled[fold_points * test : fold_points * (test + 1) + 1, :]\n",
    "            y_validate_fold = Y_shuffled[fold_points * test : fold_points * (test + 1) + 1]\n",
    "            lambda_perf += count_outliers(k_model, x_validate_fold, y_validate_fold)[1] / len(y_validate_fold)\n",
    "        lambda_perf /= K\n",
    "        results.append(lambda_perf)\n",
    "        models.append(sgd_soft_svm(X_shuffled, Y_shuffled, lambda_par[lambda_idx], int(1e5), int(1e4)))\n",
    "        if (best_perf > lambda_perf): # if better results are found, we update the bests\n",
    "            best = sgd_soft_svm(X_shuffled, Y_shuffled, lambda_par[lambda_idx], int(1e5), int(1e4))\n",
    "            best_perf = lambda_perf\n",
    "    return best, best_perf, models, results"
   ]
  },
  {
   "cell_type": "code",
   "execution_count": 14,
   "metadata": {},
   "outputs": [
    {
     "name": "stdout",
     "output_type": "stream",
     "text": [
      "the best SVM parameters found are:  (array([-0.11354883, -1.35393355,  0.75154894,  0.22966596]), 0.6371104896862763, 1483, 696)\n",
      "the best SVM is found for lambda =  0.24609929078014187\n",
      "best lambda value performance on the training set: \n",
      "fraction of outliers: 0.5264465743698971\n",
      "fraction of misclassified samples: 0.2470713525026624\n"
     ]
    }
   ],
   "source": [
    "# running the training with K-fold cross-validation for different lambdas\n",
    "K = 5\n",
    "lambda_par = [10, 1, 1e-1, 1e-2, 1e-3, 1e-4, 1e-5]\n",
    "best_model, best_perf, models, results = K_fold(X_training, Y_training, lambda_par, K)\n",
    "print('the best SVM parameters found are: ', best_model)\n",
    "print('the best SVM is found for lambda = ', best_perf)\n",
    "training_error = np.asarray(count_outliers(best_model[0], X_training, Y_training)) / len(Y_training)\n",
    "print(\"best lambda value performance on the training set: \")\n",
    "print(\"fraction of outliers: \" + str(training_error[0]))\n",
    "print(\"fraction of misclassified samples: \" + str(training_error[1]))"
   ]
  },
  {
   "cell_type": "code",
   "execution_count": 12,
   "metadata": {},
   "outputs": [
    {
     "data": {
      "image/png": "[encoded data removed]",
      "text/plain": [
       "<Figure size 640x480 with 1 Axes>"
      ]
     },
     "metadata": {},
     "output_type": "display_data"
    }
   ],
   "source": [
    "# plotting the results\n",
    "plt.plot(lambda_par, results)\n",
    "plt.xscale('log')\n",
    "plt.xlabel('$\\log(\\lambda)$')\n",
    "plt.ylabel('validation loss')\n",
    "plt.show()"
   ]
  },
  {
   "cell_type": "code",
   "execution_count": 13,
   "metadata": {},
   "outputs": [
    {
     "name": "stdout",
     "output_type": "stream",
     "text": [
      "best lambda value performance on the test set: \n",
      "fraction of outliers: 0.3627659574468085\n",
      "fraction of misclassified samples: 0.2425531914893617\n"
     ]
    }
   ],
   "source": [
    "true_error = np.asarray(count_outliers(best_model[0], X_test, Y_test)) / len(Y_test)\n",
    "print(\"best lambda value performance on the test set: \")\n",
    "print(\"fraction of outliers: \" + str(true_error[0]))\n",
    "print(\"fraction of misclassified samples: \" + str(true_error[1]))"
   ]
  }
 ],
 "metadata": {
  "anaconda-cloud": {},
  "kernelspec": {
   "display_name": "Python 3",
   "language": "python",
   "name": "python3"
  },
  "language_info": {
   "codemirror_mode": {
    "name": "ipython",
    "version": 3
   },
   "file_extension": ".py",
   "mimetype": "text/x-python",
   "name": "python",
   "nbconvert_exporter": "python",
   "pygments_lexer": "ipython3",
   "version": "3.11.9"
  }
 },
 "nbformat": 4,
 "nbformat_minor": 4
}
